{
 "cells": [
  {
   "cell_type": "markdown",
   "id": "ac6f0473",
   "metadata": {},
   "source": [
    "## IMPORTING RAW DATA FROM EXCEL USING PANDAS"
   ]
  },
  {
   "cell_type": "code",
   "execution_count": 93,
   "id": "e32811c4",
   "metadata": {},
   "outputs": [
    {
     "name": "stdout",
     "output_type": "stream",
     "text": [
      "  Country name  year  Life Ladder  Log GDP per capita  Social support  \\\n",
      "0  Afghanistan  2008     3.723590            7.370100        0.450662   \n",
      "1  Afghanistan  2009     4.401778            7.539972        0.552308   \n",
      "2  Afghanistan  2010     4.758381            7.646709        0.539075   \n",
      "3  Afghanistan  2011     3.831719            7.619532        0.521104   \n",
      "4  Afghanistan  2012     3.782938            7.705479        0.520637   \n",
      "5  Afghanistan  2013     3.572100            7.725029        0.483552   \n",
      "6  Afghanistan  2014     3.130896            7.718354        0.525568   \n",
      "7  Afghanistan  2015     3.982855            7.701992        0.528597   \n",
      "8  Afghanistan  2016     4.220169            7.696560        0.559072   \n",
      "9  Afghanistan  2017     2.661718            7.697381        0.490880   \n",
      "\n",
      "   Healthy life expectancy at birth  Freedom to make life choices  Generosity  \\\n",
      "0                         50.799999                      0.718114    0.167640   \n",
      "1                         51.200001                      0.678896    0.190099   \n",
      "2                         51.599998                      0.600127    0.120590   \n",
      "3                         51.919998                      0.495901    0.162427   \n",
      "4                         52.240002                      0.530935    0.236032   \n",
      "5                         52.560001                      0.577955    0.061148   \n",
      "6                         52.880001                      0.508514    0.104013   \n",
      "7                         53.200001                      0.388928    0.079864   \n",
      "8                         53.000000                      0.522566    0.042265   \n",
      "9                         52.799999                      0.427011   -0.121303   \n",
      "\n",
      "   Perceptions of corruption  Positive affect  Negative affect  \n",
      "0                   0.881686         0.517637         0.258195  \n",
      "1                   0.850035         0.583926         0.237092  \n",
      "2                   0.706766         0.618265         0.275324  \n",
      "3                   0.731109         0.611387         0.267175  \n",
      "4                   0.775620         0.710385         0.267919  \n",
      "5                   0.823204         0.620585         0.273328  \n",
      "6                   0.871242         0.531691         0.374861  \n",
      "7                   0.880638         0.553553         0.339276  \n",
      "8                   0.793246         0.564953         0.348332  \n",
      "9                   0.954393         0.496349         0.371326  \n"
     ]
    }
   ],
   "source": [
    "import pandas as pd\n",
    "\n",
    "WHR_df=pd.read_excel(\"C:\\\\Users\\\\aditi\\OneDrive\\Desktop\\Project\\DataPanelWHR2021C2.xls\")\n",
    "\n",
    "print(WHR_df.head(10))"
   ]
  },
  {
   "cell_type": "markdown",
   "id": "58032966",
   "metadata": {},
   "source": [
    "## FILTERING COUNTRIES EACH HAVING 5 YEARS OF DATA FROM 2016-2020 USING IMPORTED DATA FROM EXCEL"
   ]
  },
  {
   "cell_type": "code",
   "execution_count": 94,
   "id": "33af1ffe",
   "metadata": {},
   "outputs": [
    {
     "name": "stdout",
     "output_type": "stream",
     "text": [
      "DATAFRAME CONTAINING DATA FROM 2017-2020\n",
      "     Country name  year  Life Ladder  Log GDP per capita  Social support  \\\n",
      "8     Afghanistan  2016     4.220169            7.696560        0.559072   \n",
      "9     Afghanistan  2017     2.661718            7.697381        0.490880   \n",
      "10    Afghanistan  2018     2.694303            7.691767        0.507516   \n",
      "11    Afghanistan  2019     2.375092            7.697248        0.419973   \n",
      "20        Albania  2016     4.511101            9.437311        0.638411   \n",
      "...           ...   ...          ...                 ...             ...   \n",
      "1944     Zimbabwe  2016     3.735400            7.984372        0.768425   \n",
      "1945     Zimbabwe  2017     3.638300            8.015738        0.754147   \n",
      "1946     Zimbabwe  2018     3.616480            8.048798        0.775388   \n",
      "1947     Zimbabwe  2019     2.693523            7.950132        0.759162   \n",
      "1948     Zimbabwe  2020     3.159802            7.828757        0.717243   \n",
      "\n",
      "      Healthy life expectancy at birth  Freedom to make life choices  \\\n",
      "8                            53.000000                      0.522566   \n",
      "9                            52.799999                      0.427011   \n",
      "10                           52.599998                      0.373536   \n",
      "11                           52.400002                      0.393656   \n",
      "20                           68.099998                      0.729819   \n",
      "...                                ...                           ...   \n",
      "1944                         54.400002                      0.732971   \n",
      "1945                         55.000000                      0.752826   \n",
      "1946                         55.599998                      0.762675   \n",
      "1947                         56.200001                      0.631908   \n",
      "1948                         56.799999                      0.643303   \n",
      "\n",
      "      Generosity  Perceptions of corruption  Positive affect  Negative affect  \n",
      "8       0.042265                   0.793246         0.564953         0.348332  \n",
      "9      -0.121303                   0.954393         0.496349         0.371326  \n",
      "10     -0.093828                   0.927606         0.424125         0.404904  \n",
      "11     -0.108459                   0.923849         0.351387         0.502474  \n",
      "20     -0.016982                   0.901071         0.675244         0.321706  \n",
      "...          ...                        ...              ...              ...  \n",
      "1944   -0.094634                   0.723612         0.737636         0.208555  \n",
      "1945   -0.097645                   0.751208         0.806428         0.224051  \n",
      "1946   -0.068427                   0.844209         0.710119         0.211726  \n",
      "1947   -0.063791                   0.830652         0.716004         0.235354  \n",
      "1948   -0.008696                   0.788523         0.702573         0.345736  \n",
      "\n",
      "[670 rows x 11 columns]\n",
      "                      \n",
      "COUNTRIES LIST WITH COUNT OF YEARS IN EACH COUNTRY FOR DATA FROM 2016-2020 :\n",
      "Country name\n",
      "Afghanistan    4\n",
      "Albania        5\n",
      "Algeria        4\n",
      "Argentina      5\n",
      "Armenia        4\n",
      "              ..\n",
      "Venezuela      5\n",
      "Vietnam        4\n",
      "Yemen          4\n",
      "Zambia         5\n",
      "Zimbabwe       5\n",
      "Name: year, Length: 154, dtype: int64\n",
      "                      \n",
      "COUNTRIES LIST WITH COUNT OF FIVE YEARS IN EACH COUNTRY FOR DATA FROM 2016-2020:\n",
      "Country name\n",
      "Albania          5\n",
      "Argentina        5\n",
      "Australia        5\n",
      "Austria          5\n",
      "Bangladesh       5\n",
      "                ..\n",
      "United States    5\n",
      "Uruguay          5\n",
      "Venezuela        5\n",
      "Zambia           5\n",
      "Zimbabwe         5\n",
      "Name: year, Length: 88, dtype: int64\n",
      "                      \n",
      "DATAFRAME WITH DATA FROM 2016-2020 & INDEX AS COUNTRY NAME:\n",
      "              year  Life Ladder  Log GDP per capita  Social support  \\\n",
      "Country name                                                          \n",
      "Afghanistan   2016     4.220169            7.696560        0.559072   \n",
      "Afghanistan   2017     2.661718            7.697381        0.490880   \n",
      "Afghanistan   2018     2.694303            7.691767        0.507516   \n",
      "Afghanistan   2019     2.375092            7.697248        0.419973   \n",
      "Albania       2016     4.511101            9.437311        0.638411   \n",
      "...            ...          ...                 ...             ...   \n",
      "Zimbabwe      2016     3.735400            7.984372        0.768425   \n",
      "Zimbabwe      2017     3.638300            8.015738        0.754147   \n",
      "Zimbabwe      2018     3.616480            8.048798        0.775388   \n",
      "Zimbabwe      2019     2.693523            7.950132        0.759162   \n",
      "Zimbabwe      2020     3.159802            7.828757        0.717243   \n",
      "\n",
      "              Healthy life expectancy at birth  Freedom to make life choices  \\\n",
      "Country name                                                                   \n",
      "Afghanistan                          53.000000                      0.522566   \n",
      "Afghanistan                          52.799999                      0.427011   \n",
      "Afghanistan                          52.599998                      0.373536   \n",
      "Afghanistan                          52.400002                      0.393656   \n",
      "Albania                              68.099998                      0.729819   \n",
      "...                                        ...                           ...   \n",
      "Zimbabwe                             54.400002                      0.732971   \n",
      "Zimbabwe                             55.000000                      0.752826   \n",
      "Zimbabwe                             55.599998                      0.762675   \n",
      "Zimbabwe                             56.200001                      0.631908   \n",
      "Zimbabwe                             56.799999                      0.643303   \n",
      "\n",
      "              Generosity  Perceptions of corruption  Positive affect  \\\n",
      "Country name                                                           \n",
      "Afghanistan     0.042265                   0.793246         0.564953   \n",
      "Afghanistan    -0.121303                   0.954393         0.496349   \n",
      "Afghanistan    -0.093828                   0.927606         0.424125   \n",
      "Afghanistan    -0.108459                   0.923849         0.351387   \n",
      "Albania        -0.016982                   0.901071         0.675244   \n",
      "...                  ...                        ...              ...   \n",
      "Zimbabwe       -0.094634                   0.723612         0.737636   \n",
      "Zimbabwe       -0.097645                   0.751208         0.806428   \n",
      "Zimbabwe       -0.068427                   0.844209         0.710119   \n",
      "Zimbabwe       -0.063791                   0.830652         0.716004   \n",
      "Zimbabwe       -0.008696                   0.788523         0.702573   \n",
      "\n",
      "              Negative affect  \n",
      "Country name                   \n",
      "Afghanistan          0.348332  \n",
      "Afghanistan          0.371326  \n",
      "Afghanistan          0.404904  \n",
      "Afghanistan          0.502474  \n",
      "Albania              0.321706  \n",
      "...                       ...  \n",
      "Zimbabwe             0.208555  \n",
      "Zimbabwe             0.224051  \n",
      "Zimbabwe             0.211726  \n",
      "Zimbabwe             0.235354  \n",
      "Zimbabwe             0.345736  \n",
      "\n",
      "[670 rows x 10 columns]\n",
      "                      \n",
      "DATAFRAME CONTAINING DATA FOR FOUR YEARS FROM 2017-2020 FOR EACH COUNTRY:\n",
      "              year  Life Ladder  Log GDP per capita  Social support  \\\n",
      "Country name                                                          \n",
      "Albania       2016     4.511101            9.437311        0.638411   \n",
      "Albania       2017     4.639548            9.475548        0.637698   \n",
      "Albania       2018     5.004403            9.517920        0.683592   \n",
      "Albania       2019     4.995318            9.544080        0.686365   \n",
      "Albania       2020     5.364910            9.497252        0.710115   \n",
      "...            ...          ...                 ...             ...   \n",
      "Zimbabwe      2016     3.735400            7.984372        0.768425   \n",
      "Zimbabwe      2017     3.638300            8.015738        0.754147   \n",
      "Zimbabwe      2018     3.616480            8.048798        0.775388   \n",
      "Zimbabwe      2019     2.693523            7.950132        0.759162   \n",
      "Zimbabwe      2020     3.159802            7.828757        0.717243   \n",
      "\n",
      "              Healthy life expectancy at birth  Freedom to make life choices  \\\n",
      "Country name                                                                   \n",
      "Albania                              68.099998                      0.729819   \n",
      "Albania                              68.400002                      0.749611   \n",
      "Albania                              68.699997                      0.824212   \n",
      "Albania                              69.000000                      0.777351   \n",
      "Albania                              69.300003                      0.753671   \n",
      "...                                        ...                           ...   \n",
      "Zimbabwe                             54.400002                      0.732971   \n",
      "Zimbabwe                             55.000000                      0.752826   \n",
      "Zimbabwe                             55.599998                      0.762675   \n",
      "Zimbabwe                             56.200001                      0.631908   \n",
      "Zimbabwe                             56.799999                      0.643303   \n",
      "\n",
      "              Generosity  Perceptions of corruption  Positive affect  \\\n",
      "Country name                                                           \n",
      "Albania        -0.016982                   0.901071         0.675244   \n",
      "Albania        -0.028791                   0.876135         0.669241   \n",
      "Albania         0.008912                   0.899129         0.713300   \n",
      "Albania        -0.099263                   0.914284         0.681080   \n",
      "Albania         0.006968                   0.891359         0.678661   \n",
      "...                  ...                        ...              ...   \n",
      "Zimbabwe       -0.094634                   0.723612         0.737636   \n",
      "Zimbabwe       -0.097645                   0.751208         0.806428   \n",
      "Zimbabwe       -0.068427                   0.844209         0.710119   \n",
      "Zimbabwe       -0.063791                   0.830652         0.716004   \n",
      "Zimbabwe       -0.008696                   0.788523         0.702573   \n",
      "\n",
      "              Negative affect  \n",
      "Country name                   \n",
      "Albania              0.321706  \n",
      "Albania              0.333884  \n",
      "Albania              0.318997  \n",
      "Albania              0.273827  \n",
      "Albania              0.265066  \n",
      "...                       ...  \n",
      "Zimbabwe             0.208555  \n",
      "Zimbabwe             0.224051  \n",
      "Zimbabwe             0.211726  \n",
      "Zimbabwe             0.235354  \n",
      "Zimbabwe             0.345736  \n",
      "\n",
      "[440 rows x 10 columns]\n",
      "                      \n"
     ]
    }
   ],
   "source": [
    "#Filter Original DataFrame For Data Between 2016-2020( 5 years)\n",
    "WHR_16_20=WHR_df[(WHR_df['year']==2016) | (WHR_df['year']==2017) | (WHR_df['year']==2018) | (WHR_df['year']==2019) | (WHR_df['year']==2020)]\n",
    "print('DATAFRAME CONTAINING DATA FROM 2017-2020')\n",
    "print(WHR_16_20)\n",
    "print('                      ')\n",
    "\n",
    "#Count Of Years In Each Country In DataFrame Above\n",
    "YearCountInCountry=WHR_16_20.groupby(by=['Country name'])['year'].count()\n",
    "print('COUNTRIES LIST WITH COUNT OF YEARS IN EACH COUNTRY FOR DATA FROM 2016-2020 :')\n",
    "print(YearCountInCountry)\n",
    "print('                      ')\n",
    "\n",
    "#Select Countries With Count Of Five Years\n",
    "CountriesWithFiveYears=YearCountInCountry[YearCountInCountry==5]\n",
    "print('COUNTRIES LIST WITH COUNT OF FIVE YEARS IN EACH COUNTRY FOR DATA FROM 2016-2020:')\n",
    "print(CountriesWithFiveYears)\n",
    "print('                      ')\n",
    "\n",
    "#Setting Index to Country name\n",
    "WHR_16_20=WHR_16_20.set_index(['Country name'])\n",
    "print('DATAFRAME WITH DATA FROM 2016-2020 & INDEX AS COUNTRY NAME:')\n",
    "print(WHR_16_20)\n",
    "print('                      ')\n",
    "\n",
    "#DataFrame Containing Data For Five Years For Each Country\n",
    "WHRfive_16_20=WHR_16_20[WHR_16_20.index.isin(CountriesWithFiveYears.index)]\n",
    "print('DATAFRAME CONTAINING DATA FOR FOUR YEARS FROM 2017-2020 FOR EACH COUNTRY:')\n",
    "print(WHRfive_16_20)\n",
    "print('                      ')\n",
    "\n"
   ]
  },
  {
   "cell_type": "markdown",
   "id": "f0564f73",
   "metadata": {},
   "source": [
    "## COUNT OF COUNTRIES, EACH CONTAINING DATA FOR FIVE YEARS(2016-2020)"
   ]
  },
  {
   "cell_type": "code",
   "execution_count": 95,
   "id": "731f765e",
   "metadata": {},
   "outputs": [
    {
     "name": "stdout",
     "output_type": "stream",
     "text": [
      "COUNT OF COUNTRIES CONTAINING DATA FROM 2016-2020:\n",
      "88\n",
      "                      \n"
     ]
    }
   ],
   "source": [
    "#Count Of Countries Containing Data For Five Years\n",
    "WHRfive_16_20=WHRfive_16_20.reset_index()\n",
    "CountOfCountries_WHRfive_16_20=WHRfive_16_20['Country name'].nunique()\n",
    "print('COUNT OF COUNTRIES CONTAINING DATA FROM 2016-2020:')\n",
    "print(CountOfCountries_WHRfive_16_20)\n",
    "print('                      ')\n"
   ]
  },
  {
   "cell_type": "markdown",
   "id": "3a9b7e76",
   "metadata": {},
   "source": [
    "# 2016-2019 ANALYSIS(Pre-Covid)"
   ]
  },
  {
   "cell_type": "markdown",
   "id": "ac353210",
   "metadata": {},
   "source": [
    "## 1. Average Life Ladder From 2016-2019"
   ]
  },
  {
   "cell_type": "code",
   "execution_count": 96,
   "id": "8480a291",
   "metadata": {},
   "outputs": [
    {
     "data": {
      "text/plain": [
       "5.78"
      ]
     },
     "execution_count": 96,
     "metadata": {},
     "output_type": "execute_result"
    }
   ],
   "source": [
    "#Filter Data Between 2016-2019 From DataFrame (2016-2020)\n",
    "WHR_16_19=WHRfive_16_20[((WHRfive_16_20['year']==2016) | (WHRfive_16_20['year']==2017) | (WHRfive_16_20['year']==2018) | \n",
    "                        (WHRfive_16_20['year']==2019)) & (WHRfive_16_20['Life Ladder']!=' ')]\n",
    "\n",
    "AverageLifeLadder=WHR_16_19['Life Ladder'].mean()\n",
    "AverageLifeLadder.round(2)"
   ]
  },
  {
   "cell_type": "markdown",
   "id": "84abbbc8",
   "metadata": {},
   "source": [
    "## 2.Top 5 & Bottom 5 Countries By Average Of Life Ladder From 2016-2019"
   ]
  },
  {
   "cell_type": "code",
   "execution_count": 97,
   "id": "ccd9de4b",
   "metadata": {},
   "outputs": [
    {
     "data": {
      "image/png": "[encoded data removed]",
      "text/plain": [
       "<Figure size 640x480 with 1 Axes>"
      ]
     },
     "metadata": {},
     "output_type": "display_data"
    },
    {
     "data": {
      "image/png": "[encoded data removed]",
      "text/plain": [
       "<Figure size 640x480 with 1 Axes>"
      ]
     },
     "metadata": {},
     "output_type": "display_data"
    }
   ],
   "source": [
    "TopCountriesByAverageOfLifeLadder=WHR_16_19.groupby(by=['Country name'])['Life Ladder'].mean().sort_values(ascending=False)\n",
    "Top5CountriesByAverageOfLifeLadder=TopCountriesByAverageOfLifeLadder.reset_index().head(5)\n",
    "\n",
    "x=Top5CountriesByAverageOfLifeLadder\n",
    "\n",
    "import matplotlib.pyplot as plt\n",
    "\n",
    "plt.plot(x['Country name'], x['Life Ladder'])\n",
    "plt.title(\"Top5CountriesByAverageOfLifeLadder\")\n",
    "plt.xlabel(\"Country name\")\n",
    "plt.ylabel(\"Life Ladder\")\n",
    "plt.show()\n",
    "\n",
    "Bottom5CountriesByAverageOfLifeLadder=TopCountriesByAverageOfLifeLadder.reset_index().tail(5)\n",
    "y=Bottom5CountriesByAverageOfLifeLadder\n",
    "\n",
    "plt.plot(y['Country name'], y['Life Ladder'])\n",
    "plt.title(\"Bottom5CountriesByAverageOfLifeLadder\")\n",
    "plt.xlabel(\"Country name\")\n",
    "plt.ylabel(\"Life Ladder\")\n",
    "plt.show()\n",
    "\n"
   ]
  },
  {
   "cell_type": "markdown",
   "id": "ed58d1ec",
   "metadata": {},
   "source": [
    "## 3. Effect & Correlation On Average Life Ladder & Average Healthy Life-Expectancy By Log GDP Per Capita(2016-2019)"
   ]
  },
  {
   "cell_type": "code",
   "execution_count": 228,
   "id": "60d4f0ca",
   "metadata": {},
   "outputs": [
    {
     "data": {
      "image/png": "[encoded data removed]",
      "text/plain": [
       "<Figure size 640x480 with 2 Axes>"
      ]
     },
     "metadata": {},
     "output_type": "display_data"
    },
    {
     "name": "stdout",
     "output_type": "stream",
     "text": [
      "CORRELATION BETWEEN Log GDP per capita & Life Ladder\n",
      "0.8277016591164394\n",
      "CORRELATION BETWEEN Log GDP per capita & Healthy life expectancy at birth\n",
      "0.8492985099426575\n"
     ]
    },
    {
     "name": "stderr",
     "output_type": "stream",
     "text": [
      "C:\\Users\\aditi\\AppData\\Local\\Temp\\ipykernel_16928\\660732216.py:28: FutureWarning: Indexing with multiple keys (implicitly converted to a tuple of keys) will be deprecated, use a list instead.\n",
      "  AverageMetrics_16_19=WHR_16_19.groupby(by=['Country name'])['Life Ladder','Log GDP per capita','Social support',\n"
     ]
    }
   ],
   "source": [
    "#Filtering Data According To Each Of 3 Metrics & Avearging Each Of Them\n",
    "AvgHealthLifeExpectancy=WHR_16_19.groupby(by=['Country name'])['Healthy life expectancy at birth'].mean().sort_values()\n",
    "AvgLifeLadder=WHR_16_19.groupby(by=['Country name'])['Life Ladder'].mean().sort_values()\n",
    "AvgLog=WHR_16_19.groupby(by=['Country name'])['Log GDP per capita'].mean().sort_values()\n",
    "\n",
    "#Line Plot Specifications\n",
    "x=AvgLog\n",
    "y1=AvgHealthLifeExpectancy\n",
    "y2=AvgLifeLadder\n",
    "\n",
    "fig,ax1=plt.subplots()\n",
    "\n",
    "ax2=ax1.twinx()\n",
    "\n",
    "#Plotting the Graph\n",
    "curve1=ax1.plot(AvgLog, y1, label='AvgHealthLifeExpectancy', color='r')\n",
    "curve1=ax2.plot(AvgLog, y2, label='AvgLifeLadder', color='b')\n",
    "\n",
    "plt.title(\"Effect on Avg. Life Ladder & Avg. Healthy Life Expectancy by Log GDP\")\n",
    "plt.plot()\n",
    "plt.show()\n",
    "\n",
    "#DataFrame Containing Average Metrics Of Four Years From 2016-2019 For Each Country\n",
    "AverageMetrics_16_19=WHR_16_19.groupby(by=['Country name'])['Life Ladder','Log GDP per capita','Social support', \n",
    "                                                            'Healthy life expectancy at birth' , 'Freedom to make life choices', \n",
    "                                                            'Generosity','Perceptions of corruption', 'Positive affect', \n",
    "                                                            'Negative affect'].mean()\n",
    "#Correlation Between Log GDP per capita & Life Ladder\n",
    "print('CORRELATION BETWEEN Log GDP per capita & Life Ladder')\n",
    "print(AverageMetrics_16_19['Log GDP per capita'].corr(AverageMetrics_16_19['Life Ladder']))\n",
    "\n",
    "#Correlation Between Log GDP per capita & Healthy life expectancy at birth\n",
    "print('CORRELATION BETWEEN Log GDP per capita & Healthy life expectancy at birth')\n",
    "print(AverageMetrics_16_19['Log GDP per capita'].corr(AverageMetrics_16_19['Healthy life expectancy at birth']))"
   ]
  },
  {
   "cell_type": "markdown",
   "id": "30fa125b",
   "metadata": {},
   "source": [
    "## 4. Correlation & Effect On Average Life Ladder By Average Freedom To Make Life Choices & Average Social Support(2016-2019)"
   ]
  },
  {
   "cell_type": "code",
   "execution_count": 231,
   "id": "731ef5b5",
   "metadata": {},
   "outputs": [
    {
     "name": "stdout",
     "output_type": "stream",
     "text": [
      "CORRELATION BETWEEN Freedom to make life choices & Life Ladder\n",
      "0.4684572347172494\n",
      "CORRELATION BETWEEN Social Support & Life Ladder\n",
      "0.726070866693777\n"
     ]
    },
    {
     "data": {
      "image/png": "[encoded data removed]",
      "text/plain": [
       "<Figure size 640x480 with 2 Axes>"
      ]
     },
     "metadata": {},
     "output_type": "display_data"
    }
   ],
   "source": [
    "#Filtering Data According To Each Of 3 Metrics and avearging each of them\n",
    "AvgLifeLadder=WHR_16_19.groupby(by=['Country name'])['Life Ladder'].mean().sort_values()\n",
    "AvgFreedom=WHR_16_19.groupby(by=['Country name'])['Freedom to make life choices'].mean().sort_values()\n",
    "AvgSocialSupport=WHR_16_19.groupby(by=['Country name'])['Social support'].mean().sort_values()\n",
    "\n",
    "#Declaring subplot specification\n",
    "fig, ax = plt.subplots(1, 2, gridspec_kw={'width_ratios': [2, 2]})\n",
    "fig.tight_layout()\n",
    "\n",
    "#subplot1\n",
    "plt.subplot(1,2,1)\n",
    "plt.plot(AvgFreedom,AvgLifeLadder)\n",
    "plt.title(\"Effect on Avg.Life Ladder By Avg.Freedom\")\n",
    "plt.xlabel(\"Average Freedom\")\n",
    "plt.ylabel(\"Average Life Ladder\")\n",
    "fig.tight_layout()\n",
    "\n",
    "#subplot2(\n",
    "plt.subplot(1,2,2)\n",
    "plt.plot(AvgSocialSupport,AvgLifeLadder)\n",
    "plt.title(\"Effect on Avg.Life Ladder By Avg.Social Support\")\n",
    "plt.xlabel(\"Average Social Support\")\n",
    "plt.ylabel(\"Average Life Ladder\")\n",
    "fig.tight_layout()\n",
    "\n",
    "#Correlation Between Freedom To Make Life Choices & Life Ladder\n",
    "print('CORRELATION BETWEEN Freedom to make life choices & Life Ladder')\n",
    "print(AverageMetrics_16_19['Freedom to make life choices'].corr(AverageMetrics_16_19['Life Ladder']))\n",
    "\n",
    "#Correlation Between Social Support & Life Ladder\n",
    "print('CORRELATION BETWEEN Social Support & Life Ladder')\n",
    "print(AverageMetrics_16_19['Social support'].corr(AverageMetrics_16_19['Life Ladder']))\n"
   ]
  },
  {
   "cell_type": "markdown",
   "id": "15e36f7f",
   "metadata": {},
   "source": [
    "## 5. Correlation & Effect On Average Positive Affect & Average Negative Affect By Average Life Ladder(2016-2019)"
   ]
  },
  {
   "cell_type": "code",
   "execution_count": 235,
   "id": "1cb82302",
   "metadata": {},
   "outputs": [
    {
     "data": {
      "image/png": "[encoded data removed]",
      "text/plain": [
       "<Figure size 640x480 with 2 Axes>"
      ]
     },
     "metadata": {},
     "output_type": "display_data"
    },
    {
     "name": "stdout",
     "output_type": "stream",
     "text": [
      "CORRELATION BETWEEN Positive Affect & Life Ladder\n",
      "0.48291127994232536\n",
      "CORRELATION BETWEEN Negative Affect & Life Ladder\n",
      "-0.4361794545622681\n"
     ]
    }
   ],
   "source": [
    "#Filtering Data According To Each Of 3 Metrics And Avearging Each Of Them\n",
    "AvgPositiveAffect=WHR_16_19.groupby(by=['Country name'])['Positive affect'].mean().sort_values()\n",
    "AvgNegativeAffect=WHR_16_19.groupby(by=['Country name'])['Negative affect'].mean().sort_values()\n",
    "AvgLifeLadder=WHR_16_19.groupby(by=['Country name'])['Life Ladder'].mean().sort_values()\n",
    "\n",
    "#Declaring plot specification\n",
    "x=AvgLifeLadder\n",
    "y1=AvgPositiveAffect\n",
    "y2=AvgNegativeAffect\n",
    "fig,ax1=plt.subplots()\n",
    "ax2=ax1.twinx()\n",
    "\n",
    "#Plotting the Graph-RedLine-Positive, BlueLine-Negative\n",
    "curve1=ax1.plot(x, y1, label='AvgPositiveAffect', color='r')\n",
    "curve1=ax2.plot(x, y2, label='AvgNegativeAffect', color='b')\n",
    "plt.title(\"Effect on Avg.Positive Affect & Avg.Negative Affect By Avg.Life Ladder\")\n",
    "plt.xlabel(\"Life Ladder\")\n",
    "plt.plot()\n",
    "plt.show()\n",
    "fig.tight_layout()\n",
    "\n",
    "#Correlation Between Positive Affect & Life Ladder\n",
    "print('CORRELATION BETWEEN Positive Affect & Life Ladder')\n",
    "print(AverageMetrics_16_19['Positive affect'].corr(AverageMetrics_16_19['Life Ladder']))\n",
    "\n",
    "#Correlation Between Negative Affect & Life Ladder\n",
    "print('CORRELATION BETWEEN Negative Affect & Life Ladder')\n",
    "print(AverageMetrics_16_19['Negative affect'].corr(AverageMetrics_16_19['Life Ladder']))"
   ]
  },
  {
   "cell_type": "markdown",
   "id": "2f40f707",
   "metadata": {},
   "source": [
    "## 6. Other Correlations Between Metrics(2016-2029)"
   ]
  },
  {
   "cell_type": "code",
   "execution_count": null,
   "id": "4ba2d369",
   "metadata": {},
   "outputs": [],
   "source": [
    "print('CORRELATION BETWEEN Freedom to make life choices & Positve affect')\n",
    "print(AverageMetrics_16_19['Freedom to make life choices'].corr(AverageMetrics_16_19['Positive affect']))\n",
    "\n",
    "print('CORRELATION BETWEEN Generosity & Positve affect')\n",
    "print(AverageMetrics_17_19['Generosity'].corr(AverageMetrics_17_19['Positive affect']))\n",
    "\n",
    "print('CORRELATION BETWEEN Social support & Positve affect')\n",
    "print(AverageMetrics_17_19['Social support'].corr(AverageMetrics_17_19['Positive affect']))\n",
    "\n",
    "print('CORRELATION BETWEEN Healthy life expectancy at birth & Positve affect')\n",
    "print(AverageMetrics_17_19['Healthy life expectancy at birth'].corr(AverageMetrics_17_19['Positive affect']))\n",
    "\n",
    "print('CORRELATION BETWEEN Log GDP per capita & Positve affect')\n",
    "print(AverageMetrics_17_19['Log GDP per capita'].corr(AverageMetrics_17_19['Positive affect']))\n",
    "\n",
    "print('CORRELATION BETWEEN Perceptions of corruption & Positve affect')\n",
    "print(AverageMetrics_17_19['Perceptions of corruption'].corr(AverageMetrics_17_19['Positive affect']))\n",
    "\n"
   ]
  },
  {
   "cell_type": "markdown",
   "id": "587e6bd3",
   "metadata": {},
   "source": [
    "# ANALYSIS FROM 2019-2020(Transitioning To Covid)"
   ]
  },
  {
   "cell_type": "markdown",
   "id": "babc2d5c",
   "metadata": {},
   "source": [
    "## 1. Top 5 Countries By Taking Average of Life Ladder in (2019-2020)"
   ]
  },
  {
   "cell_type": "code",
   "execution_count": 224,
   "id": "850bf888",
   "metadata": {},
   "outputs": [
    {
     "data": {
      "text/plain": [
       "[<matplotlib.lines.Line2D at 0x1b111e99010>]"
      ]
     },
     "execution_count": 224,
     "metadata": {},
     "output_type": "execute_result"
    },
    {
     "data": {
      "image/png": "[encoded data removed]",
      "text/plain": [
       "<Figure size 640x480 with 1 Axes>"
      ]
     },
     "metadata": {},
     "output_type": "display_data"
    }
   ],
   "source": [
    "#Filter Data For 2019-2020 From DataFrame 2016-2020(WHRfive_16_20) Without Null Values in Life Ladder\n",
    "WHR_19_20=WHRfive_16_20[((WHRfive_16_20['year']==2019) | (WHRfive_16_20['year']==2020)) & (WHRfive_16_20['Life Ladder']!=' ')]\n",
    "\n",
    "#Finding Average of Life Ladder & Sorting Filtered Data According To Life Ladder In Descending Order\n",
    "Top5CountriesByAvgLifeLadder_19_20=WHR_19_20.groupby(by=['Country name'])['Life Ladder'].mean().sort_values(ascending=False)\n",
    "\n",
    "#Filtering Top 5 Countries\n",
    "x=Top5CountriesByAvgLifeLadder_19_20.reset_index().head(5)\n",
    "\n",
    "#Plotting Line Graph\n",
    "plt.plot(x['Country name'],x['Life Ladder'])"
   ]
  },
  {
   "cell_type": "markdown",
   "id": "3b1e6de9",
   "metadata": {},
   "source": [
    "## 2. Top 5 Countries By Increase In Average Of Life Ladder From  2019 To 2020"
   ]
  },
  {
   "cell_type": "code",
   "execution_count": 227,
   "id": "8096655c",
   "metadata": {},
   "outputs": [
    {
     "data": {
      "text/plain": [
       "Country name\n",
       "Zambia     1.531196\n",
       "Nigeria    1.146529\n",
       "India      0.976511\n",
       "Croatia    0.882248\n",
       "China      0.626945\n",
       "Name: Life Ladder, dtype: float64"
      ]
     },
     "execution_count": 227,
     "metadata": {},
     "output_type": "execute_result"
    }
   ],
   "source": [
    "#Filter Data For 2019 From DataFrame 2016-2020(WHRfive_16_20) Without Null Values in Life Ladder\n",
    "WHR_19=WHRfive_16_20[((WHRfive_16_20['year']==2019)) & (WHRfive_16_20['Life Ladder']!=' ')].sort_values(by=['Country name'])\n",
    "\n",
    "#Changing Index To Country Name(to keep only numeric Data in Columns) in DataFrame For 2019(WHR_19)\n",
    "x=WHR_19.set_index('Country name')\n",
    "\n",
    "#Filter Data For 2020 From DataFrame 2016-2020(WHRfive_16_20) Without Null Values in Life Ladder\n",
    "WHR_20=WHRfive_16_20[((WHRfive_16_20['year']==2020)) & (WHRfive_16_20['Life Ladder']!=' ')].sort_values(by=['Country name'])\n",
    "\n",
    "#Changing Index To Country Name(to keep only numeric Data in Columns) in DataFrame For 2020(WHR_20)\n",
    "y=WHR_20.set_index('Country name')\n",
    "\n",
    "#Finding Difference Between Average Life Ladder From 2019 to 2020\n",
    "diff=y['Life Ladder']-x['Life Ladder']\n",
    "\n",
    "#Finding Increase Between Average Life Ladder From 2019 to 2020(by keeping (diff>0))\n",
    "#Filtering Top 5 Countries By Sorting Life Ladder in Descending order\n",
    "Top5CountriesWithIncFrom19_20=((diff[diff>0]).sort_values(ascending=False).head(5))\n",
    "Top5CountriesWithIncFrom19_20"
   ]
  },
  {
   "cell_type": "markdown",
   "id": "a04fd1fa",
   "metadata": {},
   "source": [
    "## 3. Contributing Factors For Increase In Life Ladder For Top 5 Countries B/w 2019 To 2020 (shown as percentage)(2019-2020)"
   ]
  },
  {
   "cell_type": "code",
   "execution_count": 185,
   "id": "deb101ac",
   "metadata": {},
   "outputs": [
    {
     "data": {
      "text/html": [
       "<div>\n",
       "<style scoped>\n",
       "    .dataframe tbody tr th:only-of-type {\n",
       "        vertical-align: middle;\n",
       "    }\n",
       "\n",
       "    .dataframe tbody tr th {\n",
       "        vertical-align: top;\n",
       "    }\n",
       "\n",
       "    .dataframe thead th {\n",
       "        text-align: right;\n",
       "    }\n",
       "</style>\n",
       "<table border=\"1\" class=\"dataframe\">\n",
       "  <thead>\n",
       "    <tr style=\"text-align: right;\">\n",
       "      <th></th>\n",
       "      <th>year</th>\n",
       "      <th>Life Ladder</th>\n",
       "      <th>Log GDP per capita</th>\n",
       "      <th>Social support</th>\n",
       "      <th>Healthy life expectancy at birth</th>\n",
       "      <th>Freedom to make life choices</th>\n",
       "      <th>Generosity</th>\n",
       "      <th>Perceptions of corruption</th>\n",
       "      <th>Positive affect</th>\n",
       "      <th>Negative affect</th>\n",
       "    </tr>\n",
       "    <tr>\n",
       "      <th>Country name</th>\n",
       "      <th></th>\n",
       "      <th></th>\n",
       "      <th></th>\n",
       "      <th></th>\n",
       "      <th></th>\n",
       "      <th></th>\n",
       "      <th></th>\n",
       "      <th></th>\n",
       "      <th></th>\n",
       "      <th></th>\n",
       "    </tr>\n",
       "  </thead>\n",
       "  <tbody>\n",
       "    <tr>\n",
       "      <th>Zambia</th>\n",
       "      <td>0.049529</td>\n",
       "      <td>46.304501</td>\n",
       "      <td>-0.466754</td>\n",
       "      <td>20.219215</td>\n",
       "      <td>0.896057</td>\n",
       "      <td>-7.474034</td>\n",
       "      <td>-27.668665</td>\n",
       "      <td>-2.669161</td>\n",
       "      <td>-7.038517</td>\n",
       "      <td>-12.642294</td>\n",
       "    </tr>\n",
       "    <tr>\n",
       "      <th>India</th>\n",
       "      <td>0.049529</td>\n",
       "      <td>30.057885</td>\n",
       "      <td>-1.305986</td>\n",
       "      <td>9.960843</td>\n",
       "      <td>0.661160</td>\n",
       "      <td>3.523653</td>\n",
       "      <td>-33.061170</td>\n",
       "      <td>3.742735</td>\n",
       "      <td>16.160767</td>\n",
       "      <td>-17.835458</td>\n",
       "    </tr>\n",
       "    <tr>\n",
       "      <th>Nigeria</th>\n",
       "      <td>0.049529</td>\n",
       "      <td>26.318157</td>\n",
       "      <td>-0.699077</td>\n",
       "      <td>0.786827</td>\n",
       "      <td>0.798406</td>\n",
       "      <td>-2.235561</td>\n",
       "      <td>207.899104</td>\n",
       "      <td>4.539267</td>\n",
       "      <td>4.054160</td>\n",
       "      <td>28.808596</td>\n",
       "    </tr>\n",
       "    <tr>\n",
       "      <th>Croatia</th>\n",
       "      <td>0.049529</td>\n",
       "      <td>15.682342</td>\n",
       "      <td>-0.898241</td>\n",
       "      <td>-1.396943</td>\n",
       "      <td>0.847455</td>\n",
       "      <td>13.168802</td>\n",
       "      <td>-54.169255</td>\n",
       "      <td>3.147723</td>\n",
       "      <td>34.881904</td>\n",
       "      <td>6.113675</td>\n",
       "    </tr>\n",
       "    <tr>\n",
       "      <th>China</th>\n",
       "      <td>0.049529</td>\n",
       "      <td>12.187595</td>\n",
       "      <td>0.145990</td>\n",
       "      <td>-1.654803</td>\n",
       "      <td>0.431039</td>\n",
       "      <td>-3.907155</td>\n",
       "      <td>-40.350876</td>\n",
       "      <td>NaN</td>\n",
       "      <td>-11.387154</td>\n",
       "      <td>67.166170</td>\n",
       "    </tr>\n",
       "  </tbody>\n",
       "</table>\n",
       "</div>"
      ],
      "text/plain": [
       "                  year  Life Ladder  Log GDP per capita  Social support  \\\n",
       "Country name                                                              \n",
       "Zambia        0.049529    46.304501           -0.466754       20.219215   \n",
       "India         0.049529    30.057885           -1.305986        9.960843   \n",
       "Nigeria       0.049529    26.318157           -0.699077        0.786827   \n",
       "Croatia       0.049529    15.682342           -0.898241       -1.396943   \n",
       "China         0.049529    12.187595            0.145990       -1.654803   \n",
       "\n",
       "              Healthy life expectancy at birth  Freedom to make life choices  \\\n",
       "Country name                                                                   \n",
       "Zambia                                0.896057                     -7.474034   \n",
       "India                                 0.661160                      3.523653   \n",
       "Nigeria                               0.798406                     -2.235561   \n",
       "Croatia                               0.847455                     13.168802   \n",
       "China                                 0.431039                     -3.907155   \n",
       "\n",
       "              Generosity  Perceptions of corruption  Positive affect  \\\n",
       "Country name                                                           \n",
       "Zambia        -27.668665                  -2.669161        -7.038517   \n",
       "India         -33.061170                   3.742735        16.160767   \n",
       "Nigeria       207.899104                   4.539267         4.054160   \n",
       "Croatia       -54.169255                   3.147723        34.881904   \n",
       "China         -40.350876                        NaN       -11.387154   \n",
       "\n",
       "              Negative affect  \n",
       "Country name                   \n",
       "Zambia             -12.642294  \n",
       "India              -17.835458  \n",
       "Nigeria             28.808596  \n",
       "Croatia              6.113675  \n",
       "China               67.166170  "
      ]
     },
     "execution_count": 185,
     "metadata": {},
     "output_type": "execute_result"
    }
   ],
   "source": [
    "ChangePerc=((y-x)/x)*100\n",
    "Factors=ChangePerc[ChangePerc.index.isin(Top5CountriesWithIncFrom19_20.index)]\n",
    "Factors=Factors.sort_values(by=['Life Ladder'], ascending=False)\n",
    "Factors"
   ]
  },
  {
   "cell_type": "markdown",
   "id": "33eeb332",
   "metadata": {},
   "source": [
    "## 4. Top 5 Countries By Decrease In Life Ladder From 2019 To 2020"
   ]
  },
  {
   "cell_type": "code",
   "execution_count": 182,
   "id": "3ba5cb0c",
   "metadata": {},
   "outputs": [
    {
     "data": {
      "text/plain": [
       "Country name\n",
       "Philippines           1.188160\n",
       "El Salvador           0.992894\n",
       "Dominican Republic    0.835827\n",
       "Colombia              0.641123\n",
       "Cambodia              0.621300\n",
       "Name: Life Ladder, dtype: float64"
      ]
     },
     "execution_count": 182,
     "metadata": {},
     "output_type": "execute_result"
    }
   ],
   "source": [
    "dec=x['Life Ladder']-y['Life Ladder']\n",
    "\n",
    "Top5CountriesWithDecFrom19_20=((dec[dec>0]).sort_values(ascending=False).head(5))\n",
    "\n",
    "Top5CountriesWithDecFrom19_20"
   ]
  },
  {
   "cell_type": "markdown",
   "id": "851e936c",
   "metadata": {},
   "source": [
    "## 5. Contributing Factors For Decrease In Life Ladder For Top 5 Countries B/w 2019 To 2020 (shown as percentage)(2019-2020)"
   ]
  },
  {
   "cell_type": "code",
   "execution_count": 193,
   "id": "4b87d28d",
   "metadata": {},
   "outputs": [
    {
     "data": {
      "text/html": [
       "<div>\n",
       "<style scoped>\n",
       "    .dataframe tbody tr th:only-of-type {\n",
       "        vertical-align: middle;\n",
       "    }\n",
       "\n",
       "    .dataframe tbody tr th {\n",
       "        vertical-align: top;\n",
       "    }\n",
       "\n",
       "    .dataframe thead th {\n",
       "        text-align: right;\n",
       "    }\n",
       "</style>\n",
       "<table border=\"1\" class=\"dataframe\">\n",
       "  <thead>\n",
       "    <tr style=\"text-align: right;\">\n",
       "      <th></th>\n",
       "      <th>Log GDP per capita</th>\n",
       "      <th>Social support</th>\n",
       "      <th>Healthy life expectancy at birth</th>\n",
       "      <th>Freedom to make life choices</th>\n",
       "      <th>Generosity</th>\n",
       "      <th>Perceptions of corruption</th>\n",
       "      <th>Positive affect</th>\n",
       "      <th>Negative affect</th>\n",
       "    </tr>\n",
       "    <tr>\n",
       "      <th>Country name</th>\n",
       "      <th></th>\n",
       "      <th></th>\n",
       "      <th></th>\n",
       "      <th></th>\n",
       "      <th></th>\n",
       "      <th></th>\n",
       "      <th></th>\n",
       "      <th></th>\n",
       "    </tr>\n",
       "  </thead>\n",
       "  <tbody>\n",
       "    <tr>\n",
       "      <th>Philippines</th>\n",
       "      <td>0.365941</td>\n",
       "      <td>7.567714</td>\n",
       "      <td>-0.161288</td>\n",
       "      <td>-2.467365</td>\n",
       "      <td>-39.915392</td>\n",
       "      <td>0.555612</td>\n",
       "      <td>-2.902473</td>\n",
       "      <td>4.016945</td>\n",
       "    </tr>\n",
       "    <tr>\n",
       "      <th>El Salvador</th>\n",
       "      <td>0.671044</td>\n",
       "      <td>8.996210</td>\n",
       "      <td>-0.451800</td>\n",
       "      <td>-5.305977</td>\n",
       "      <td>-16.194082</td>\n",
       "      <td>14.457677</td>\n",
       "      <td>3.637648</td>\n",
       "      <td>-21.351775</td>\n",
       "    </tr>\n",
       "    <tr>\n",
       "      <th>Dominican Republic</th>\n",
       "      <td>0.190344</td>\n",
       "      <td>8.819492</td>\n",
       "      <td>-0.453862</td>\n",
       "      <td>4.873830</td>\n",
       "      <td>-4.187580</td>\n",
       "      <td>14.685695</td>\n",
       "      <td>6.420582</td>\n",
       "      <td>-18.887865</td>\n",
       "    </tr>\n",
       "    <tr>\n",
       "      <th>Cambodia</th>\n",
       "      <td>0.296604</td>\n",
       "      <td>4.577709</td>\n",
       "      <td>-0.645164</td>\n",
       "      <td>-0.655963</td>\n",
       "      <td>-296.515601</td>\n",
       "      <td>-4.177648</td>\n",
       "      <td>-3.979350</td>\n",
       "      <td>-0.068106</td>\n",
       "    </tr>\n",
       "    <tr>\n",
       "      <th>Colombia</th>\n",
       "      <td>1.064953</td>\n",
       "      <td>8.657521</td>\n",
       "      <td>-0.441181</td>\n",
       "      <td>-2.274545</td>\n",
       "      <td>50.826853</td>\n",
       "      <td>5.351413</td>\n",
       "      <td>3.326196</td>\n",
       "      <td>-5.702903</td>\n",
       "    </tr>\n",
       "  </tbody>\n",
       "</table>\n",
       "</div>"
      ],
      "text/plain": [
       "                    Log GDP per capita  Social support  \\\n",
       "Country name                                             \n",
       "Philippines                   0.365941        7.567714   \n",
       "El Salvador                   0.671044        8.996210   \n",
       "Dominican Republic            0.190344        8.819492   \n",
       "Cambodia                      0.296604        4.577709   \n",
       "Colombia                      1.064953        8.657521   \n",
       "\n",
       "                    Healthy life expectancy at birth  \\\n",
       "Country name                                           \n",
       "Philippines                                -0.161288   \n",
       "El Salvador                                -0.451800   \n",
       "Dominican Republic                         -0.453862   \n",
       "Cambodia                                   -0.645164   \n",
       "Colombia                                   -0.441181   \n",
       "\n",
       "                    Freedom to make life choices  Generosity  \\\n",
       "Country name                                                   \n",
       "Philippines                            -2.467365  -39.915392   \n",
       "El Salvador                            -5.305977  -16.194082   \n",
       "Dominican Republic                      4.873830   -4.187580   \n",
       "Cambodia                               -0.655963 -296.515601   \n",
       "Colombia                               -2.274545   50.826853   \n",
       "\n",
       "                    Perceptions of corruption  Positive affect  \\\n",
       "Country name                                                     \n",
       "Philippines                          0.555612        -2.902473   \n",
       "El Salvador                         14.457677         3.637648   \n",
       "Dominican Republic                  14.685695         6.420582   \n",
       "Cambodia                            -4.177648        -3.979350   \n",
       "Colombia                             5.351413         3.326196   \n",
       "\n",
       "                    Negative affect  \n",
       "Country name                         \n",
       "Philippines                4.016945  \n",
       "El Salvador              -21.351775  \n",
       "Dominican Republic       -18.887865  \n",
       "Cambodia                  -0.068106  \n",
       "Colombia                  -5.702903  "
      ]
     },
     "execution_count": 193,
     "metadata": {},
     "output_type": "execute_result"
    }
   ],
   "source": [
    "DecPerc=((x-y)/x)*100\n",
    "Factors_DecPerc=DecPerc[DecPerc.index.isin(Top5CountriesWithDecFrom19_20.index)]\n",
    "Factors_DecPerc=Factors_DecPerc.sort_values(by=['Life Ladder'], ascending=False)\n",
    "Factors_DecPerc.drop( ['Life Ladder', 'year'],axis=1, inplace=True)\n",
    "Factors"
   ]
  },
  {
   "cell_type": "markdown",
   "id": "4b7b0dae",
   "metadata": {},
   "source": [
    "\n",
    "# 2017 ANALYSIS"
   ]
  },
  {
   "cell_type": "markdown",
   "id": "e2180462",
   "metadata": {},
   "source": [
    "## 1. Filter Data For 2017 "
   ]
  },
  {
   "cell_type": "code",
   "execution_count": 223,
   "id": "192e8a76",
   "metadata": {
    "scrolled": true
   },
   "outputs": [
    {
     "name": "stderr",
     "output_type": "stream",
     "text": [
      "C:\\Users\\aditi\\AppData\\Local\\Temp\\ipykernel_16928\\2792787754.py:2: UserWarning: Boolean Series key will be reindexed to match DataFrame index.\n",
      "  WHRfive_17=WHRfive_16_20[(WHR_df['year']==2017) & (WHR_df['Positive affect']!='NaN')]\n"
     ]
    },
    {
     "data": {
      "text/html": [
       "<div>\n",
       "<style scoped>\n",
       "    .dataframe tbody tr th:only-of-type {\n",
       "        vertical-align: middle;\n",
       "    }\n",
       "\n",
       "    .dataframe tbody tr th {\n",
       "        vertical-align: top;\n",
       "    }\n",
       "\n",
       "    .dataframe thead th {\n",
       "        text-align: right;\n",
       "    }\n",
       "</style>\n",
       "<table border=\"1\" class=\"dataframe\">\n",
       "  <thead>\n",
       "    <tr style=\"text-align: right;\">\n",
       "      <th></th>\n",
       "      <th>Country name</th>\n",
       "      <th>year</th>\n",
       "      <th>Life Ladder</th>\n",
       "      <th>Log GDP per capita</th>\n",
       "      <th>Social support</th>\n",
       "      <th>Healthy life expectancy at birth</th>\n",
       "      <th>Freedom to make life choices</th>\n",
       "      <th>Generosity</th>\n",
       "      <th>Perceptions of corruption</th>\n",
       "      <th>Positive affect</th>\n",
       "      <th>Negative affect</th>\n",
       "    </tr>\n",
       "  </thead>\n",
       "  <tbody>\n",
       "    <tr>\n",
       "      <th>9</th>\n",
       "      <td>Argentina</td>\n",
       "      <td>2020</td>\n",
       "      <td>5.900567</td>\n",
       "      <td>9.850450</td>\n",
       "      <td>0.897104</td>\n",
       "      <td>69.199997</td>\n",
       "      <td>0.823392</td>\n",
       "      <td>-0.122354</td>\n",
       "      <td>0.815780</td>\n",
       "      <td>0.763524</td>\n",
       "      <td>0.342497</td>\n",
       "    </tr>\n",
       "    <tr>\n",
       "      <th>21</th>\n",
       "      <td>Bangladesh</td>\n",
       "      <td>2017</td>\n",
       "      <td>4.309771</td>\n",
       "      <td>8.333532</td>\n",
       "      <td>0.712553</td>\n",
       "      <td>63.799999</td>\n",
       "      <td>0.896217</td>\n",
       "      <td>0.011620</td>\n",
       "      <td>0.635014</td>\n",
       "      <td>0.568827</td>\n",
       "      <td>0.213506</td>\n",
       "    </tr>\n",
       "    <tr>\n",
       "      <th>30</th>\n",
       "      <td>Benin</td>\n",
       "      <td>2016</td>\n",
       "      <td>4.007358</td>\n",
       "      <td>7.993432</td>\n",
       "      <td>0.492816</td>\n",
       "      <td>53.500000</td>\n",
       "      <td>0.779795</td>\n",
       "      <td>-0.065072</td>\n",
       "      <td>0.837716</td>\n",
       "      <td>0.608237</td>\n",
       "      <td>0.455768</td>\n",
       "    </tr>\n",
       "    <tr>\n",
       "      <th>48</th>\n",
       "      <td>Brazil</td>\n",
       "      <td>2019</td>\n",
       "      <td>6.451149</td>\n",
       "      <td>9.592306</td>\n",
       "      <td>0.899175</td>\n",
       "      <td>66.599998</td>\n",
       "      <td>0.830206</td>\n",
       "      <td>-0.061973</td>\n",
       "      <td>0.761841</td>\n",
       "      <td>0.760846</td>\n",
       "      <td>0.337051</td>\n",
       "    </tr>\n",
       "    <tr>\n",
       "      <th>63</th>\n",
       "      <td>Cameroon</td>\n",
       "      <td>2019</td>\n",
       "      <td>4.936738</td>\n",
       "      <td>8.203218</td>\n",
       "      <td>0.710965</td>\n",
       "      <td>53.500000</td>\n",
       "      <td>0.711500</td>\n",
       "      <td>-0.007858</td>\n",
       "      <td>0.817170</td>\n",
       "      <td>0.629451</td>\n",
       "      <td>0.326395</td>\n",
       "    </tr>\n",
       "  </tbody>\n",
       "</table>\n",
       "</div>"
      ],
      "text/plain": [
       "   Country name  year  Life Ladder  Log GDP per capita  Social support  \\\n",
       "9     Argentina  2020     5.900567            9.850450        0.897104   \n",
       "21   Bangladesh  2017     4.309771            8.333532        0.712553   \n",
       "30        Benin  2016     4.007358            7.993432        0.492816   \n",
       "48       Brazil  2019     6.451149            9.592306        0.899175   \n",
       "63     Cameroon  2019     4.936738            8.203218        0.710965   \n",
       "\n",
       "    Healthy life expectancy at birth  Freedom to make life choices  \\\n",
       "9                          69.199997                      0.823392   \n",
       "21                         63.799999                      0.896217   \n",
       "30                         53.500000                      0.779795   \n",
       "48                         66.599998                      0.830206   \n",
       "63                         53.500000                      0.711500   \n",
       "\n",
       "    Generosity  Perceptions of corruption  Positive affect  Negative affect  \n",
       "9    -0.122354                   0.815780         0.763524         0.342497  \n",
       "21    0.011620                   0.635014         0.568827         0.213506  \n",
       "30   -0.065072                   0.837716         0.608237         0.455768  \n",
       "48   -0.061973                   0.761841         0.760846         0.337051  \n",
       "63   -0.007858                   0.817170         0.629451         0.326395  "
      ]
     },
     "execution_count": 223,
     "metadata": {},
     "output_type": "execute_result"
    }
   ],
   "source": [
    "#Filter Data For Year 2017 Without Null(Positive affect) Values\n",
    "WHRfive_17=WHRfive_16_20[(WHR_df['year']==2017) & (WHR_df['Positive affect']!='NaN')]\n",
    "\n",
    "WHRfive_17.head(5)"
   ]
  },
  {
   "cell_type": "markdown",
   "id": "372ac507",
   "metadata": {},
   "source": [
    "## 2. Total Countries Having Data For 2017 "
   ]
  },
  {
   "cell_type": "code",
   "execution_count": null,
   "id": "658cf3d8",
   "metadata": {},
   "outputs": [],
   "source": [
    "#Total Countries Having Data For 2017\n",
    "CountOfCountries_WHRfive_17=WHRfive_17['Country name'].nunique()\n",
    "print('TOTAL COUNTRIES HAVING DATA FOR 2017:')\n",
    "print(CountOfCountries_WHRfive_17)\n",
    "print('                      ')"
   ]
  },
  {
   "cell_type": "markdown",
   "id": "966407c3",
   "metadata": {},
   "source": [
    "## 3. Top 5 Countries with Most positive Affect In 2017"
   ]
  },
  {
   "cell_type": "code",
   "execution_count": 220,
   "id": "c92b48ac",
   "metadata": {},
   "outputs": [
    {
     "name": "stdout",
     "output_type": "stream",
     "text": [
      "TOP 5 COUNTRIES WITH MOST POSITIVE AFFECT:\n",
      "                 Country name  year  Life Ladder  Log GDP per capita  \\\n",
      "368  Taiwan Province of China  2019     6.537090                 NaN   \n",
      "76                      China  2017     5.099061            9.571116   \n",
      "304               Philippines  2020     5.079585            9.061443   \n",
      "274                   Myanmar  2020     4.431364            8.553914   \n",
      "419             United States  2020     7.028088           11.000656   \n",
      "\n",
      "     Social support  Healthy life expectancy at birth  \\\n",
      "368        0.893431                               NaN   \n",
      "76         0.772033                         69.000000   \n",
      "304        0.781140                         62.099998   \n",
      "274        0.795763                         59.599998   \n",
      "419        0.937370                         68.099998   \n",
      "\n",
      "     Freedom to make life choices  Generosity  Perceptions of corruption  \\\n",
      "368                      0.814484         NaN                   0.718112   \n",
      "76                       0.877618   -0.174832                        NaN   \n",
      "304                      0.932042   -0.115543                   0.744284   \n",
      "274                      0.824871    0.470258                   0.646702   \n",
      "419                      0.850447    0.034103                   0.678125   \n",
      "\n",
      "     Positive affect  Negative affect  \n",
      "368         0.860071         0.093412  \n",
      "76          0.821097         0.214005  \n",
      "304         0.803562         0.326889  \n",
      "274         0.799749         0.289218  \n",
      "419         0.787372         0.295499  \n",
      "                      \n"
     ]
    },
    {
     "data": {
      "image/png": "[encoded data removed]",
      "text/plain": [
       "<Figure size 500x300 with 1 Axes>"
      ]
     },
     "metadata": {},
     "output_type": "display_data"
    }
   ],
   "source": [
    "#Sorting Data According To Positive Affect In Descending\n",
    "WHRfive_17_sort=WHRfive_17.sort_values(by=['Positive affect'], ascending=False)\n",
    "\n",
    "#Top 5 Countries With Most Positive Affect\n",
    "Top5CountriesWithPositiveAffect=WHRfive_17_sort.head(5)\n",
    "print('TOP 5 COUNTRIES WITH MOST POSITIVE AFFECT:')\n",
    "print(Top5CountriesWithPositiveAffect)\n",
    "print('                      ')\n",
    "\n",
    "#Creating Bar Graph For Top 5 Countries With Most Positive Affect\n",
    "fig = plt.figure(figsize = (5, 3))\n",
    "plt.bar(Top5CountriesWithPositiveAffect['Country name'], Top5CountriesWithPositiveAffect['Positive affect'], \n",
    "        color ='maroon', width = 0.4)\n",
    "plt.xlabel(\"Country name\")\n",
    "plt.ylabel(\"Postive affect\")\n",
    "plt.title(\"Top 5 Countries With Most Positive Affect\")\n",
    "plt.show()"
   ]
  },
  {
   "cell_type": "markdown",
   "id": "c964e160",
   "metadata": {},
   "source": [
    "## 4. Bottom 5 Countries With Least Positive Affect In 2017"
   ]
  },
  {
   "cell_type": "code",
   "execution_count": 221,
   "id": "663173cb",
   "metadata": {},
   "outputs": [
    {
     "name": "stdout",
     "output_type": "stream",
     "text": [
      "BOTTOM 5 COUNTRIES WITH LEAST POSITIVE AFFECT:\n",
      "    Country name  year  Life Ladder  Log GDP per capita  Social support  \\\n",
      "385      Tunisia  2016     4.521453            9.261508        0.701822   \n",
      "144      Georgia  2020     5.123143            9.569304        0.718346   \n",
      "30         Benin  2016     4.007358            7.993432        0.492816   \n",
      "21    Bangladesh  2017     4.309771            8.333532        0.712553   \n",
      "202       Jordan  2018     4.638934            9.195625        0.799544   \n",
      "\n",
      "     Healthy life expectancy at birth  Freedom to make life choices  \\\n",
      "385                         66.300003                      0.614438   \n",
      "144                         64.099998                      0.764352   \n",
      "30                          53.500000                      0.779795   \n",
      "21                          63.799999                      0.896217   \n",
      "202                         66.800003                      0.762420   \n",
      "\n",
      "     Generosity  Perceptions of corruption  Positive affect  Negative affect  \n",
      "385   -0.164950                   0.810746         0.612341         0.378108  \n",
      "144   -0.221125                   0.582735         0.610895         0.294512  \n",
      "30    -0.065072                   0.837716         0.608237         0.455768  \n",
      "21     0.011620                   0.635014         0.568827         0.213506  \n",
      "202   -0.185849                        NaN              NaN              NaN  \n",
      "                      \n"
     ]
    },
    {
     "data": {
      "image/png": "[encoded data removed]",
      "text/plain": [
       "<Figure size 500x300 with 1 Axes>"
      ]
     },
     "metadata": {},
     "output_type": "display_data"
    }
   ],
   "source": [
    "#Bottom 5 Countries With Least Positive Affect \n",
    "Bottom5CountriesWithLeastPositiveAffect=WHRfive_17_sort.tail(5)\n",
    "print('BOTTOM 5 COUNTRIES WITH LEAST POSITIVE AFFECT:')\n",
    "print(Bottom5CountriesWithLeastPositiveAffect)\n",
    "print('                      ')\n",
    "\n",
    "#Creating Bar Graph For Bottom 5 Countries With Least Positive Affect \n",
    "fig = plt.figure(figsize = (5, 3))\n",
    "plt.bar(Bottom5CountriesWithLeastPositiveAffect['Country name'], Bottom5CountriesWithLeastPositiveAffect['Positive affect'], \n",
    "        color ='green', width = 0.4)\n",
    "plt.xlabel(\"Country name\")\n",
    "plt.ylabel(\"Postive affect\")\n",
    "plt.title(\"Bottom 5 Countries With Least Positive Affect\")\n",
    "plt.show()"
   ]
  },
  {
   "cell_type": "markdown",
   "id": "1e6da462",
   "metadata": {},
   "source": [
    "# FILTERING & COMPARING AVERAGE METRICS B/W PERIOD(2016-2019) & PERIOD 2020  \n"
   ]
  },
  {
   "cell_type": "code",
   "execution_count": 210,
   "id": "1137a073",
   "metadata": {},
   "outputs": [
    {
     "name": "stderr",
     "output_type": "stream",
     "text": [
      "C:\\Users\\aditi\\AppData\\Local\\Temp\\ipykernel_16928\\574087656.py:7: FutureWarning: Indexing with multiple keys (implicitly converted to a tuple of keys) will be deprecated, use a list instead.\n",
      "  AverageMetrics_16_19=WHR_16_19.groupby(by=['Country name'])['Life Ladder','Log GDP per capita','Social support',\n",
      "C:\\Users\\aditi\\AppData\\Local\\Temp\\ipykernel_16928\\574087656.py:16: FutureWarning: Indexing with multiple keys (implicitly converted to a tuple of keys) will be deprecated, use a list instead.\n",
      "  Metrics_20= Metrics_20.groupby(by=['Country name'])['Life Ladder','Log GDP per capita','Social support',\n"
     ]
    },
    {
     "data": {
      "text/html": [
       "<div>\n",
       "<style scoped>\n",
       "    .dataframe tbody tr th:only-of-type {\n",
       "        vertical-align: middle;\n",
       "    }\n",
       "\n",
       "    .dataframe tbody tr th {\n",
       "        vertical-align: top;\n",
       "    }\n",
       "\n",
       "    .dataframe thead th {\n",
       "        text-align: right;\n",
       "    }\n",
       "</style>\n",
       "<table border=\"1\" class=\"dataframe\">\n",
       "  <thead>\n",
       "    <tr style=\"text-align: right;\">\n",
       "      <th></th>\n",
       "      <th>Life Ladder</th>\n",
       "      <th>Log GDP per capita</th>\n",
       "      <th>Social support</th>\n",
       "      <th>Healthy life expectancy at birth</th>\n",
       "      <th>Freedom to make life choices</th>\n",
       "      <th>Generosity</th>\n",
       "      <th>Perceptions of corruption</th>\n",
       "      <th>Positive affect</th>\n",
       "      <th>Negative affect</th>\n",
       "    </tr>\n",
       "    <tr>\n",
       "      <th>Country name</th>\n",
       "      <th></th>\n",
       "      <th></th>\n",
       "      <th></th>\n",
       "      <th></th>\n",
       "      <th></th>\n",
       "      <th></th>\n",
       "      <th></th>\n",
       "      <th></th>\n",
       "      <th></th>\n",
       "    </tr>\n",
       "  </thead>\n",
       "  <tbody>\n",
       "    <tr>\n",
       "      <th>Croatia</th>\n",
       "      <td>1.027478</td>\n",
       "      <td>-0.038205</td>\n",
       "      <td>0.069304</td>\n",
       "      <td>1.500002</td>\n",
       "      <td>0.132170</td>\n",
       "      <td>0.051306</td>\n",
       "      <td>0.052779</td>\n",
       "      <td>0.142349</td>\n",
       "      <td>-0.017530</td>\n",
       "    </tr>\n",
       "    <tr>\n",
       "      <th>Zambia</th>\n",
       "      <td>0.930841</td>\n",
       "      <td>-0.040624</td>\n",
       "      <td>0.050268</td>\n",
       "      <td>1.250000</td>\n",
       "      <td>-0.058680</td>\n",
       "      <td>-0.041035</td>\n",
       "      <td>0.021532</td>\n",
       "      <td>-0.024270</td>\n",
       "      <td>-0.031668</td>\n",
       "    </tr>\n",
       "    <tr>\n",
       "      <th>Kyrgyzstan</th>\n",
       "      <td>0.882417</td>\n",
       "      <td>-0.030602</td>\n",
       "      <td>0.009189</td>\n",
       "      <td>0.749997</td>\n",
       "      <td>0.050207</td>\n",
       "      <td>-0.013078</td>\n",
       "      <td>0.035477</td>\n",
       "      <td>0.037448</td>\n",
       "      <td>0.083546</td>\n",
       "    </tr>\n",
       "    <tr>\n",
       "      <th>Ukraine</th>\n",
       "      <td>0.843819</td>\n",
       "      <td>0.024519</td>\n",
       "      <td>0.002949</td>\n",
       "      <td>0.749996</td>\n",
       "      <td>0.164327</td>\n",
       "      <td>0.163132</td>\n",
       "      <td>0.031718</td>\n",
       "      <td>0.080512</td>\n",
       "      <td>0.065393</td>\n",
       "    </tr>\n",
       "    <tr>\n",
       "      <th>Bangladesh</th>\n",
       "      <td>0.660150</td>\n",
       "      <td>0.103977</td>\n",
       "      <td>0.054238</td>\n",
       "      <td>1.250002</td>\n",
       "      <td>-0.116114</td>\n",
       "      <td>0.034127</td>\n",
       "      <td>0.071586</td>\n",
       "      <td>0.030544</td>\n",
       "      <td>0.036899</td>\n",
       "    </tr>\n",
       "  </tbody>\n",
       "</table>\n",
       "</div>"
      ],
      "text/plain": [
       "              Life Ladder  Log GDP per capita  Social support  \\\n",
       "Country name                                                    \n",
       "Croatia          1.027478           -0.038205        0.069304   \n",
       "Zambia           0.930841           -0.040624        0.050268   \n",
       "Kyrgyzstan       0.882417           -0.030602        0.009189   \n",
       "Ukraine          0.843819            0.024519        0.002949   \n",
       "Bangladesh       0.660150            0.103977        0.054238   \n",
       "\n",
       "              Healthy life expectancy at birth  Freedom to make life choices  \\\n",
       "Country name                                                                   \n",
       "Croatia                               1.500002                      0.132170   \n",
       "Zambia                                1.250000                     -0.058680   \n",
       "Kyrgyzstan                            0.749997                      0.050207   \n",
       "Ukraine                               0.749996                      0.164327   \n",
       "Bangladesh                            1.250002                     -0.116114   \n",
       "\n",
       "              Generosity  Perceptions of corruption  Positive affect  \\\n",
       "Country name                                                           \n",
       "Croatia         0.051306                   0.052779         0.142349   \n",
       "Zambia         -0.041035                   0.021532        -0.024270   \n",
       "Kyrgyzstan     -0.013078                   0.035477         0.037448   \n",
       "Ukraine         0.163132                   0.031718         0.080512   \n",
       "Bangladesh      0.034127                   0.071586         0.030544   \n",
       "\n",
       "              Negative affect  \n",
       "Country name                   \n",
       "Croatia             -0.017530  \n",
       "Zambia              -0.031668  \n",
       "Kyrgyzstan           0.083546  \n",
       "Ukraine              0.065393  \n",
       "Bangladesh           0.036899  "
      ]
     },
     "execution_count": 210,
     "metadata": {},
     "output_type": "execute_result"
    }
   ],
   "source": [
    "#Filtering DataFrame For Four Years(2016-2019) From DataFrame(2016-2020) \n",
    "WHR_16_19=WHRfive_16_20[(WHRfive_16_20['year']==2016) | (WHRfive_16_20['year']==2017) | (WHRfive_16_20['year']==2018) | \n",
    "                        (WHRfive_16_20['year']==2019)]\n",
    "\n",
    "#DataFrame Containing Average Metrics Of Four Years From 2016-2019 For Each Country\n",
    "AverageMetrics_16_19=WHR_16_19.groupby(by=['Country name'])['Life Ladder','Log GDP per capita','Social support', \n",
    "                                                            'Healthy life expectancy at birth' , 'Freedom to make life choices', \n",
    "                                                            'Generosity','Perceptions of corruption', 'Positive affect', \n",
    "                                                            'Negative affect'].mean()\n",
    "\n",
    "AverageMetrics_16_19=AverageMetrics_16_19.sort_values(by=['Country name'])\n",
    "\n",
    "#DataFrame Containing Data For 2020 For Each Country\n",
    "Metrics_20=WHRfive_16_20[(WHRfive_16_20['year']==2020)]\n",
    "Metrics_20= Metrics_20.groupby(by=['Country name'])['Life Ladder','Log GDP per capita','Social support', \n",
    "                                                            'Healthy life expectancy at birth' , 'Freedom to make life choices', \n",
    "                                                            'Generosity','Perceptions of corruption', 'Positive affect', \n",
    "                                                            'Negative affect'].mean()\n",
    "\n",
    "Metrics_20=Metrics_20.sort_values(by=['Country name'])\n",
    "\n",
    "#Difference In Metrics Between y2020 & From Period y2016-y2019\n",
    "(Metrics_20-AverageMetrics_16_19).sort_values(by=['Life Ladder'],ascending=False).head(5)"
   ]
  },
  {
   "cell_type": "code",
   "execution_count": null,
   "id": "b1791945",
   "metadata": {},
   "outputs": [],
   "source": []
  }
 ],
 "metadata": {
  "kernelspec": {
   "display_name": "Python 3 (ipykernel)",
   "language": "python",
   "name": "python3"
  },
  "language_info": {
   "codemirror_mode": {
    "name": "ipython",
    "version": 3
   },
   "file_extension": ".py",
   "mimetype": "text/x-python",
   "name": "python",
   "nbconvert_exporter": "python",
   "pygments_lexer": "ipython3",
   "version": "3.11.2"
  }
 },
 "nbformat": 4,
 "nbformat_minor": 5
}
